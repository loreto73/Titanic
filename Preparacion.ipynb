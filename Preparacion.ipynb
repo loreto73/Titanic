{
 "cells": [
  {
   "cell_type": "markdown",
   "metadata": {},
   "source": [
    "Primero importamos las librerías que vamos a necesitar para nuestro modelo de regresión logística"
   ]
  },
  {
   "cell_type": "code",
   "execution_count": 12,
   "metadata": {},
   "outputs": [],
   "source": [
    "import pandas as pd\n",
    "import numpy as np\n",
    "from sklearn.model_selection import train_test_split"
   ]
  },
  {
   "cell_type": "markdown",
   "metadata": {},
   "source": [
    "Ahora introducimos la ruta en la que están ubicados los archivos con la información que se analizará y tambíen aprovechamos para hacer un pequeño ajuste en la visualización del dataframe para meyor versatilidad."
   ]
  },
  {
   "cell_type": "code",
   "execution_count": 13,
   "metadata": {},
   "outputs": [],
   "source": [
    "train = pd.read_csv('/home/luis-loreto/Documentos/Proyectos/Titanic/Titanic/Datos/train.csv')\n",
    "test = pd.read_csv('/home/luis-loreto/Documentos/Proyectos/Titanic/Titanic/Datos/test.csv')\n",
    "\n",
    "pd.options.display.max_columns = None\n",
    "pd.options.display.max_rows = None"
   ]
  },
  {
   "cell_type": "code",
   "execution_count": 54,
   "metadata": {},
   "outputs": [],
   "source": [
    "train_c, validacion = train_test_split(train, test_size=0.2, random_state=42)"
   ]
  },
  {
   "cell_type": "code",
   "execution_count": 56,
   "metadata": {},
   "outputs": [],
   "source": [
    "y = validacion['Survived']"
   ]
  },
  {
   "cell_type": "code",
   "execution_count": 57,
   "metadata": {},
   "outputs": [
    {
     "data": {
      "application/vnd.microsoft.datawrangler.viewer.v0+json": {
       "columns": [
        {
         "name": "index",
         "rawType": "int64",
         "type": "integer"
        },
        {
         "name": "Survived",
         "rawType": "int64",
         "type": "integer"
        }
       ],
       "ref": "907ebbb9-627a-4b21-8447-d00951f6148b",
       "rows": [
        [
         "709",
         "1"
        ],
        [
         "439",
         "0"
        ],
        [
         "840",
         "0"
        ],
        [
         "720",
         "1"
        ],
        [
         "39",
         "1"
        ],
        [
         "290",
         "1"
        ],
        [
         "300",
         "1"
        ],
        [
         "333",
         "0"
        ],
        [
         "208",
         "1"
        ],
        [
         "136",
         "1"
        ],
        [
         "137",
         "0"
        ],
        [
         "696",
         "0"
        ],
        [
         "485",
         "0"
        ],
        [
         "244",
         "0"
        ],
        [
         "344",
         "0"
        ],
        [
         "853",
         "1"
        ],
        [
         "621",
         "1"
        ],
        [
         "653",
         "1"
        ],
        [
         "886",
         "0"
        ],
        [
         "110",
         "0"
        ],
        [
         "294",
         "0"
        ],
        [
         "447",
         "1"
        ],
        [
         "192",
         "1"
        ],
        [
         "682",
         "0"
        ],
        [
         "538",
         "0"
        ],
        [
         "819",
         "0"
        ],
        [
         "30",
         "0"
        ],
        [
         "673",
         "1"
        ],
        [
         "63",
         "0"
        ],
        [
         "396",
         "0"
        ],
        [
         "877",
         "0"
        ],
        [
         "141",
         "1"
        ],
        [
         "793",
         "0"
        ],
        [
         "235",
         "0"
        ],
        [
         "204",
         "1"
        ],
        [
         "620",
         "0"
        ],
        [
         "23",
         "1"
        ],
        [
         "198",
         "1"
        ],
        [
         "842",
         "1"
        ],
        [
         "739",
         "0"
        ],
        [
         "120",
         "0"
        ],
        [
         "477",
         "0"
        ],
        [
         "837",
         "0"
        ],
        [
         "790",
         "0"
        ],
        [
         "362",
         "0"
        ],
        [
         "86",
         "0"
        ],
        [
         "67",
         "0"
        ],
        [
         "350",
         "0"
        ],
        [
         "210",
         "0"
        ],
        [
         "659",
         "0"
        ]
       ],
       "shape": {
        "columns": 1,
        "rows": 179
       }
      },
      "text/plain": [
       "709    1\n",
       "439    0\n",
       "840    0\n",
       "720    1\n",
       "39     1\n",
       "290    1\n",
       "300    1\n",
       "333    0\n",
       "208    1\n",
       "136    1\n",
       "137    0\n",
       "696    0\n",
       "485    0\n",
       "244    0\n",
       "344    0\n",
       "853    1\n",
       "621    1\n",
       "653    1\n",
       "886    0\n",
       "110    0\n",
       "294    0\n",
       "447    1\n",
       "192    1\n",
       "682    0\n",
       "538    0\n",
       "819    0\n",
       "30     0\n",
       "673    1\n",
       "63     0\n",
       "396    0\n",
       "877    0\n",
       "141    1\n",
       "793    0\n",
       "235    0\n",
       "204    1\n",
       "620    0\n",
       "23     1\n",
       "198    1\n",
       "842    1\n",
       "739    0\n",
       "120    0\n",
       "477    0\n",
       "837    0\n",
       "790    0\n",
       "362    0\n",
       "86     0\n",
       "67     0\n",
       "350    0\n",
       "210    0\n",
       "659    0\n",
       "448    1\n",
       "820    1\n",
       "360    0\n",
       "802    1\n",
       "280    0\n",
       "585    1\n",
       "70     0\n",
       "299    1\n",
       "211    1\n",
       "44     1\n",
       "408    0\n",
       "446    1\n",
       "426    1\n",
       "168    0\n",
       "196    0\n",
       "772    0\n",
       "72     0\n",
       "422    0\n",
       "532    0\n",
       "591    1\n",
       "312    0\n",
       "311    1\n",
       "889    1\n",
       "835    1\n",
       "833    0\n",
       "605    0\n",
       "767    0\n",
       "539    1\n",
       "357    0\n",
       "254    0\n",
       "266    0\n",
       "66     1\n",
       "319    1\n",
       "778    0\n",
       "174    0\n",
       "493    0\n",
       "215    1\n",
       "309    1\n",
       "822    0\n",
       "250    0\n",
       "165    1\n",
       "541    0\n",
       "625    0\n",
       "388    0\n",
       "76     0\n",
       "281    0\n",
       "712    1\n",
       "338    1\n",
       "327    1\n",
       "321    0\n",
       "545    0\n",
       "590    0\n",
       "291    1\n",
       "465    0\n",
       "814    0\n",
       "442    0\n",
       "670    1\n",
       "462    0\n",
       "286    1\n",
       "209    1\n",
       "669    1\n",
       "227    0\n",
       "849    1\n",
       "512    1\n",
       "527    0\n",
       "876    0\n",
       "96     0\n",
       "292    0\n",
       "323    1\n",
       "736    0\n",
       "529    0\n",
       "218    1\n",
       "275    1\n",
       "78     1\n",
       "785    0\n",
       "604    1\n",
       "796    1\n",
       "139    0\n",
       "578    0\n",
       "494    0\n",
       "359    1\n",
       "65     1\n",
       "481    0\n",
       "777    1\n",
       "599    1\n",
       "830    1\n",
       "306    1\n",
       "231    0\n",
       "845    0\n",
       "49     0\n",
       "652    0\n",
       "854    0\n",
       "342    0\n",
       "594    0\n",
       "885    0\n",
       "416    1\n",
       "213    0\n",
       "33     0\n",
       "31     1\n",
       "668    0\n",
       "584    0\n",
       "514    0\n",
       "688    0\n",
       "109    1\n",
       "77     0\n",
       "611    0\n",
       "643    1\n",
       "82     1\n",
       "518    1\n",
       "657    0\n",
       "296    0\n",
       "507    1\n",
       "808    0\n",
       "375    1\n",
       "5      0\n",
       "54     0\n",
       "398    0\n",
       "457    1\n",
       "521    0\n",
       "363    0\n",
       "97     1\n",
       "417    1\n",
       "572    1\n",
       "852    0\n",
       "433    0\n",
       "773    0\n",
       "25     1\n",
       "84     1\n",
       "10     1\n",
       "Name: Survived, dtype: int64"
      ]
     },
     "execution_count": 57,
     "metadata": {},
     "output_type": "execute_result"
    }
   ],
   "source": [
    "y"
   ]
  },
  {
   "cell_type": "markdown",
   "metadata": {},
   "source": [
    "Iniciamos con el análisis exploratorio. Vemos cuántos registros tiene cada variable. Se puede observar que son 11 variables independientes y una dependiente: Survived. Ésta última será la variable para el aprendizaje en nuestro modelos de machine learning. "
   ]
  },
  {
   "cell_type": "code",
   "execution_count": 21,
   "metadata": {},
   "outputs": [
    {
     "data": {
      "application/vnd.microsoft.datawrangler.viewer.v0+json": {
       "columns": [
        {
         "name": "index",
         "rawType": "object",
         "type": "string"
        },
        {
         "name": "Observaciones",
         "rawType": "int64",
         "type": "integer"
        },
        {
         "name": "Missings",
         "rawType": "int64",
         "type": "integer"
        }
       ],
       "ref": "ba0fcadb-e51a-4653-a225-bd86bdeba16b",
       "rows": [
        [
         "PassengerId",
         "712",
         "0"
        ],
        [
         "Survived",
         "712",
         "0"
        ],
        [
         "Pclass",
         "712",
         "0"
        ],
        [
         "Name",
         "712",
         "0"
        ],
        [
         "Sex",
         "712",
         "0"
        ],
        [
         "Age",
         "572",
         "140"
        ],
        [
         "SibSp",
         "712",
         "0"
        ],
        [
         "Parch",
         "712",
         "0"
        ],
        [
         "Ticket",
         "712",
         "0"
        ],
        [
         "Fare",
         "712",
         "0"
        ],
        [
         "Cabin",
         "159",
         "553"
        ],
        [
         "Embarked",
         "710",
         "2"
        ]
       ],
       "shape": {
        "columns": 2,
        "rows": 12
       }
      },
      "text/html": [
       "<div>\n",
       "<style scoped>\n",
       "    .dataframe tbody tr th:only-of-type {\n",
       "        vertical-align: middle;\n",
       "    }\n",
       "\n",
       "    .dataframe tbody tr th {\n",
       "        vertical-align: top;\n",
       "    }\n",
       "\n",
       "    .dataframe thead th {\n",
       "        text-align: right;\n",
       "    }\n",
       "</style>\n",
       "<table border=\"1\" class=\"dataframe\">\n",
       "  <thead>\n",
       "    <tr style=\"text-align: right;\">\n",
       "      <th></th>\n",
       "      <th>Observaciones</th>\n",
       "      <th>Missings</th>\n",
       "    </tr>\n",
       "  </thead>\n",
       "  <tbody>\n",
       "    <tr>\n",
       "      <th>PassengerId</th>\n",
       "      <td>712</td>\n",
       "      <td>0</td>\n",
       "    </tr>\n",
       "    <tr>\n",
       "      <th>Survived</th>\n",
       "      <td>712</td>\n",
       "      <td>0</td>\n",
       "    </tr>\n",
       "    <tr>\n",
       "      <th>Pclass</th>\n",
       "      <td>712</td>\n",
       "      <td>0</td>\n",
       "    </tr>\n",
       "    <tr>\n",
       "      <th>Name</th>\n",
       "      <td>712</td>\n",
       "      <td>0</td>\n",
       "    </tr>\n",
       "    <tr>\n",
       "      <th>Sex</th>\n",
       "      <td>712</td>\n",
       "      <td>0</td>\n",
       "    </tr>\n",
       "    <tr>\n",
       "      <th>Age</th>\n",
       "      <td>572</td>\n",
       "      <td>140</td>\n",
       "    </tr>\n",
       "    <tr>\n",
       "      <th>SibSp</th>\n",
       "      <td>712</td>\n",
       "      <td>0</td>\n",
       "    </tr>\n",
       "    <tr>\n",
       "      <th>Parch</th>\n",
       "      <td>712</td>\n",
       "      <td>0</td>\n",
       "    </tr>\n",
       "    <tr>\n",
       "      <th>Ticket</th>\n",
       "      <td>712</td>\n",
       "      <td>0</td>\n",
       "    </tr>\n",
       "    <tr>\n",
       "      <th>Fare</th>\n",
       "      <td>712</td>\n",
       "      <td>0</td>\n",
       "    </tr>\n",
       "    <tr>\n",
       "      <th>Cabin</th>\n",
       "      <td>159</td>\n",
       "      <td>553</td>\n",
       "    </tr>\n",
       "    <tr>\n",
       "      <th>Embarked</th>\n",
       "      <td>710</td>\n",
       "      <td>2</td>\n",
       "    </tr>\n",
       "  </tbody>\n",
       "</table>\n",
       "</div>"
      ],
      "text/plain": [
       "             Observaciones  Missings\n",
       "PassengerId            712         0\n",
       "Survived               712         0\n",
       "Pclass                 712         0\n",
       "Name                   712         0\n",
       "Sex                    712         0\n",
       "Age                    572       140\n",
       "SibSp                  712         0\n",
       "Parch                  712         0\n",
       "Ticket                 712         0\n",
       "Fare                   712         0\n",
       "Cabin                  159       553\n",
       "Embarked               710         2"
      ]
     },
     "execution_count": 21,
     "metadata": {},
     "output_type": "execute_result"
    }
   ],
   "source": [
    "Variables = {\n",
    "    \"Observaciones\" : train_c.count(),\n",
    "    \"Missings\": train_c.isnull().sum()\n",
    "}\n",
    "pd.DataFrame(Variables)"
   ]
  },
  {
   "cell_type": "markdown",
   "metadata": {},
   "source": [
    "Vemos que las variables con missings son: Age, Cabin y Embarked. Debemos decidir si vamos a utilizar dichas variables y en su caso qué método de imputación elegir. Por el momento, descartaremos la variable Cabin, pues sus missings representan más de la mitad de las observaciones del dataframe. Usaremos algún método de imputación en las variables Age y Embarked para poder incluirlas en el modelo."
   ]
  },
  {
   "cell_type": "markdown",
   "metadata": {},
   "source": [
    "Ahora iniciaremos con la imputación para las variables Age y Embarked. Vamos a crear una función que le asigne valores aleatorios de su determinada variable a las observaciones con valores faltantes-"
   ]
  },
  {
   "cell_type": "code",
   "execution_count": 5,
   "metadata": {},
   "outputs": [],
   "source": [
    "def hotdeck(data, variable):\n",
    "    for column in train.columns:\n",
    "        # Encontrar índices donde hay valores faltantes\n",
    "        missings = data[data[f\"{variable}\"].isnull()].index\n",
    "        \n",
    "        for x in missings:\n",
    "            # Seleccionar filas no faltantes\n",
    "            no_missings = data[f\"{variable}\"].dropna()\n",
    "            # Elegir un valor aleatorio de las filas no faltantes\n",
    "            random_value = no_missings.sample(n=1).values[0]\n",
    "            # Imputar el valor aleatorio en el índice correspondiente\n",
    "            data.at[x, f\"{variable}\"] = random_value\n",
    "            \n",
    "    return data"
   ]
  },
  {
   "cell_type": "code",
   "execution_count": 22,
   "metadata": {},
   "outputs": [],
   "source": [
    "import pandas as pd\n",
    "import numpy as np\n",
    "\n",
    "def hotdeck_imputation(data: pd.DataFrame, variable: str) -> pd.DataFrame:\n",
    "    \"\"\"\n",
    "    Realiza una imputación hot-deck aleatoria en una columna específica de un DataFrame.\n",
    "\n",
    "    Para cada valor faltante en la columna, lo reemplaza con un valor\n",
    "    seleccionado aleatoriamente de los valores no faltantes en esa misma columna.\n",
    "\n",
    "    Args:\n",
    "        data (pd.DataFrame): El DataFrame que contiene los datos.\n",
    "        variable (str): El nombre de la columna en la que se imputarán los valores.\n",
    "\n",
    "    Returns:\n",
    "        pd.DataFrame: El DataFrame con la columna especificada ya imputada.\n",
    "    \"\"\"\n",
    "    # Copia para evitar la advertencia SettingWithCopyWarning\n",
    "    target_col = data[variable]\n",
    "\n",
    "    # 1. Encontrar los índices de los valores faltantes\n",
    "    missing_indices = target_col[target_col.isnull()].index\n",
    "\n",
    "    # 2. Obtener los valores no faltantes de donde se tomará la muestra\n",
    "    non_missing_values = target_col.dropna()\n",
    "\n",
    "    # 3. Generar muestras aleatorias para cada valor faltante\n",
    "    # Se usa replace=True por si el número de faltantes es mayor que el de existentes\n",
    "    random_samples = np.random.choice(non_missing_values, size=len(missing_indices), replace=True)\n",
    "\n",
    "    # 4. Asignar las muestras a los índices faltantes en una sola operación\n",
    "    data.loc[missing_indices, variable] = random_samples\n",
    "\n",
    "    return data\n"
   ]
  },
  {
   "cell_type": "code",
   "execution_count": 25,
   "metadata": {},
   "outputs": [],
   "source": [
    "train_c = hotdeck(train_c, \"Age\")\n",
    "train_c = hotdeck(train_c, \"Embarked\")"
   ]
  },
  {
   "cell_type": "code",
   "execution_count": 26,
   "metadata": {},
   "outputs": [
    {
     "data": {
      "application/vnd.microsoft.datawrangler.viewer.v0+json": {
       "columns": [
        {
         "name": "index",
         "rawType": "object",
         "type": "string"
        },
        {
         "name": "Observaciones",
         "rawType": "int64",
         "type": "integer"
        },
        {
         "name": "Missings",
         "rawType": "int64",
         "type": "integer"
        }
       ],
       "ref": "c880b994-b979-4e01-ae2e-339643e79862",
       "rows": [
        [
         "PassengerId",
         "712",
         "0"
        ],
        [
         "Survived",
         "712",
         "0"
        ],
        [
         "Pclass",
         "712",
         "0"
        ],
        [
         "Name",
         "712",
         "0"
        ],
        [
         "Sex",
         "712",
         "0"
        ],
        [
         "Age",
         "712",
         "0"
        ],
        [
         "SibSp",
         "712",
         "0"
        ],
        [
         "Parch",
         "712",
         "0"
        ],
        [
         "Ticket",
         "712",
         "0"
        ],
        [
         "Fare",
         "712",
         "0"
        ],
        [
         "Cabin",
         "159",
         "553"
        ],
        [
         "Embarked",
         "712",
         "0"
        ]
       ],
       "shape": {
        "columns": 2,
        "rows": 12
       }
      },
      "text/html": [
       "<div>\n",
       "<style scoped>\n",
       "    .dataframe tbody tr th:only-of-type {\n",
       "        vertical-align: middle;\n",
       "    }\n",
       "\n",
       "    .dataframe tbody tr th {\n",
       "        vertical-align: top;\n",
       "    }\n",
       "\n",
       "    .dataframe thead th {\n",
       "        text-align: right;\n",
       "    }\n",
       "</style>\n",
       "<table border=\"1\" class=\"dataframe\">\n",
       "  <thead>\n",
       "    <tr style=\"text-align: right;\">\n",
       "      <th></th>\n",
       "      <th>Observaciones</th>\n",
       "      <th>Missings</th>\n",
       "    </tr>\n",
       "  </thead>\n",
       "  <tbody>\n",
       "    <tr>\n",
       "      <th>PassengerId</th>\n",
       "      <td>712</td>\n",
       "      <td>0</td>\n",
       "    </tr>\n",
       "    <tr>\n",
       "      <th>Survived</th>\n",
       "      <td>712</td>\n",
       "      <td>0</td>\n",
       "    </tr>\n",
       "    <tr>\n",
       "      <th>Pclass</th>\n",
       "      <td>712</td>\n",
       "      <td>0</td>\n",
       "    </tr>\n",
       "    <tr>\n",
       "      <th>Name</th>\n",
       "      <td>712</td>\n",
       "      <td>0</td>\n",
       "    </tr>\n",
       "    <tr>\n",
       "      <th>Sex</th>\n",
       "      <td>712</td>\n",
       "      <td>0</td>\n",
       "    </tr>\n",
       "    <tr>\n",
       "      <th>Age</th>\n",
       "      <td>712</td>\n",
       "      <td>0</td>\n",
       "    </tr>\n",
       "    <tr>\n",
       "      <th>SibSp</th>\n",
       "      <td>712</td>\n",
       "      <td>0</td>\n",
       "    </tr>\n",
       "    <tr>\n",
       "      <th>Parch</th>\n",
       "      <td>712</td>\n",
       "      <td>0</td>\n",
       "    </tr>\n",
       "    <tr>\n",
       "      <th>Ticket</th>\n",
       "      <td>712</td>\n",
       "      <td>0</td>\n",
       "    </tr>\n",
       "    <tr>\n",
       "      <th>Fare</th>\n",
       "      <td>712</td>\n",
       "      <td>0</td>\n",
       "    </tr>\n",
       "    <tr>\n",
       "      <th>Cabin</th>\n",
       "      <td>159</td>\n",
       "      <td>553</td>\n",
       "    </tr>\n",
       "    <tr>\n",
       "      <th>Embarked</th>\n",
       "      <td>712</td>\n",
       "      <td>0</td>\n",
       "    </tr>\n",
       "  </tbody>\n",
       "</table>\n",
       "</div>"
      ],
      "text/plain": [
       "             Observaciones  Missings\n",
       "PassengerId            712         0\n",
       "Survived               712         0\n",
       "Pclass                 712         0\n",
       "Name                   712         0\n",
       "Sex                    712         0\n",
       "Age                    712         0\n",
       "SibSp                  712         0\n",
       "Parch                  712         0\n",
       "Ticket                 712         0\n",
       "Fare                   712         0\n",
       "Cabin                  159       553\n",
       "Embarked               712         0"
      ]
     },
     "execution_count": 26,
     "metadata": {},
     "output_type": "execute_result"
    }
   ],
   "source": [
    "Variables = {\n",
    "    \"Observaciones\" : train_c.count(),\n",
    "    \"Missings\": train_c.isnull().sum()\n",
    "}\n",
    "pd.DataFrame(Variables)"
   ]
  },
  {
   "cell_type": "markdown",
   "metadata": {},
   "source": [
    "Ahora vamos a corroborar que nuestro dataframe no tenga valores faltantes."
   ]
  },
  {
   "cell_type": "markdown",
   "metadata": {},
   "source": [
    "Ahora iniciaremos con el proceso de One Hot Encoding. Crearemos variables dummies para aquellas con observaciones categóricas, es decir, para Sex, Pclass y Embarked"
   ]
  },
  {
   "cell_type": "code",
   "execution_count": 28,
   "metadata": {},
   "outputs": [],
   "source": [
    "train_c = pd.get_dummies(train_c, columns = ['Sex', 'Pclass', 'Embarked'], drop_first=True, dtype=float)"
   ]
  },
  {
   "cell_type": "markdown",
   "metadata": {},
   "source": [
    "Ahora creamos un conjunto de las variables independientes que usaremos y que ya pasaron por un proceso de one hot encoding y otro para la variable dependiente"
   ]
  },
  {
   "cell_type": "code",
   "execution_count": 30,
   "metadata": {},
   "outputs": [],
   "source": [
    "X_train = train_c[[\"Age\", \"SibSp\", \"Parch\", \"Fare\", \"Sex_male\", \"Pclass_2\", \"Pclass_3\", \"Embarked_Q\", \"Embarked_S\"]]\n",
    "y_train = train_c[[\"Survived\"]]"
   ]
  },
  {
   "cell_type": "markdown",
   "metadata": {},
   "source": [
    "Independientemente del modelo que vayamos a usar, debemos darle el mismo tratamiento al conjunto de tratamiento. Primero identificaremos si tiene valores faltantes:"
   ]
  },
  {
   "cell_type": "code",
   "execution_count": 52,
   "metadata": {},
   "outputs": [
    {
     "ename": "KeyError",
     "evalue": "'Survived'",
     "output_type": "error",
     "traceback": [
      "\u001b[0;31m---------------------------------------------------------------------------\u001b[0m",
      "\u001b[0;31mKeyError\u001b[0m                                  Traceback (most recent call last)",
      "Cell \u001b[0;32mIn[52], line 1\u001b[0m\n\u001b[0;32m----> 1\u001b[0m \u001b[43mvalidacion\u001b[49m\u001b[43m[\u001b[49m\u001b[38;5;124;43m'\u001b[39;49m\u001b[38;5;124;43mSurvived\u001b[39;49m\u001b[38;5;124;43m'\u001b[39;49m\u001b[43m]\u001b[49m\n",
      "\u001b[0;31mKeyError\u001b[0m: 'Survived'"
     ]
    }
   ],
   "source": [
    "validacion['Survived']"
   ]
  },
  {
   "cell_type": "code",
   "execution_count": 48,
   "metadata": {},
   "outputs": [],
   "source": [
    "validacion = pd.DataFrame(validacion)"
   ]
  },
  {
   "cell_type": "code",
   "execution_count": 53,
   "metadata": {},
   "outputs": [
    {
     "data": {
      "text/plain": [
       "{'Observaciones': Observaciones    12\n",
       " Missings         12\n",
       " dtype: int64,\n",
       " 'Missings': Observaciones    0\n",
       " Missings         0\n",
       " dtype: int64}"
      ]
     },
     "execution_count": 53,
     "metadata": {},
     "output_type": "execute_result"
    }
   ],
   "source": [
    "validacion"
   ]
  },
  {
   "cell_type": "code",
   "execution_count": 49,
   "metadata": {},
   "outputs": [
    {
     "data": {
      "application/vnd.microsoft.datawrangler.viewer.v0+json": {
       "columns": [
        {
         "name": "index",
         "rawType": "object",
         "type": "string"
        },
        {
         "name": "Observaciones",
         "rawType": "int64",
         "type": "integer"
        },
        {
         "name": "Missings",
         "rawType": "int64",
         "type": "integer"
        }
       ],
       "ref": "a3e497b3-c395-4f2d-b6f5-fb49b4193fa3",
       "rows": [
        [
         "Observaciones",
         "12",
         "0"
        ],
        [
         "Missings",
         "12",
         "0"
        ]
       ],
       "shape": {
        "columns": 2,
        "rows": 2
       }
      },
      "text/html": [
       "<div>\n",
       "<style scoped>\n",
       "    .dataframe tbody tr th:only-of-type {\n",
       "        vertical-align: middle;\n",
       "    }\n",
       "\n",
       "    .dataframe tbody tr th {\n",
       "        vertical-align: top;\n",
       "    }\n",
       "\n",
       "    .dataframe thead th {\n",
       "        text-align: right;\n",
       "    }\n",
       "</style>\n",
       "<table border=\"1\" class=\"dataframe\">\n",
       "  <thead>\n",
       "    <tr style=\"text-align: right;\">\n",
       "      <th></th>\n",
       "      <th>Observaciones</th>\n",
       "      <th>Missings</th>\n",
       "    </tr>\n",
       "  </thead>\n",
       "  <tbody>\n",
       "    <tr>\n",
       "      <th>Observaciones</th>\n",
       "      <td>12</td>\n",
       "      <td>0</td>\n",
       "    </tr>\n",
       "    <tr>\n",
       "      <th>Missings</th>\n",
       "      <td>12</td>\n",
       "      <td>0</td>\n",
       "    </tr>\n",
       "  </tbody>\n",
       "</table>\n",
       "</div>"
      ],
      "text/plain": [
       "               Observaciones  Missings\n",
       "Observaciones             12         0\n",
       "Missings                  12         0"
      ]
     },
     "execution_count": 49,
     "metadata": {},
     "output_type": "execute_result"
    }
   ],
   "source": [
    "validacion = {\n",
    "    \"Observaciones\" : validacion.count(),\n",
    "    \"Missings\": validacion.isnull().sum()\n",
    "}\n",
    "pd.DataFrame(validacion)"
   ]
  },
  {
   "cell_type": "markdown",
   "metadata": {},
   "source": [
    "Vemos que sí, entonces ahora le aplicamos la función que creamos para la imputación. En este caso, se usará para las variables Fare y Age. Cabin se descarta porque los valores faltantes correspondonde a más de la mitad del total."
   ]
  },
  {
   "cell_type": "code",
   "execution_count": 24,
   "metadata": {},
   "outputs": [],
   "source": [
    "test = hotdeck(test, \"Age\")\n",
    "test = hotdeck(test, \"Fare\")"
   ]
  },
  {
   "cell_type": "code",
   "execution_count": 25,
   "metadata": {},
   "outputs": [
    {
     "data": {
      "text/html": [
       "<div>\n",
       "<style scoped>\n",
       "    .dataframe tbody tr th:only-of-type {\n",
       "        vertical-align: middle;\n",
       "    }\n",
       "\n",
       "    .dataframe tbody tr th {\n",
       "        vertical-align: top;\n",
       "    }\n",
       "\n",
       "    .dataframe thead th {\n",
       "        text-align: right;\n",
       "    }\n",
       "</style>\n",
       "<table border=\"1\" class=\"dataframe\">\n",
       "  <thead>\n",
       "    <tr style=\"text-align: right;\">\n",
       "      <th></th>\n",
       "      <th>Observaciones</th>\n",
       "      <th>Missings</th>\n",
       "    </tr>\n",
       "  </thead>\n",
       "  <tbody>\n",
       "    <tr>\n",
       "      <th>PassengerId</th>\n",
       "      <td>418</td>\n",
       "      <td>0</td>\n",
       "    </tr>\n",
       "    <tr>\n",
       "      <th>Pclass</th>\n",
       "      <td>418</td>\n",
       "      <td>0</td>\n",
       "    </tr>\n",
       "    <tr>\n",
       "      <th>Name</th>\n",
       "      <td>418</td>\n",
       "      <td>0</td>\n",
       "    </tr>\n",
       "    <tr>\n",
       "      <th>Sex</th>\n",
       "      <td>418</td>\n",
       "      <td>0</td>\n",
       "    </tr>\n",
       "    <tr>\n",
       "      <th>Age</th>\n",
       "      <td>418</td>\n",
       "      <td>0</td>\n",
       "    </tr>\n",
       "    <tr>\n",
       "      <th>SibSp</th>\n",
       "      <td>418</td>\n",
       "      <td>0</td>\n",
       "    </tr>\n",
       "    <tr>\n",
       "      <th>Parch</th>\n",
       "      <td>418</td>\n",
       "      <td>0</td>\n",
       "    </tr>\n",
       "    <tr>\n",
       "      <th>Ticket</th>\n",
       "      <td>418</td>\n",
       "      <td>0</td>\n",
       "    </tr>\n",
       "    <tr>\n",
       "      <th>Fare</th>\n",
       "      <td>418</td>\n",
       "      <td>0</td>\n",
       "    </tr>\n",
       "    <tr>\n",
       "      <th>Cabin</th>\n",
       "      <td>91</td>\n",
       "      <td>327</td>\n",
       "    </tr>\n",
       "    <tr>\n",
       "      <th>Embarked</th>\n",
       "      <td>418</td>\n",
       "      <td>0</td>\n",
       "    </tr>\n",
       "  </tbody>\n",
       "</table>\n",
       "</div>"
      ],
      "text/plain": [
       "             Observaciones  Missings\n",
       "PassengerId            418         0\n",
       "Pclass                 418         0\n",
       "Name                   418         0\n",
       "Sex                    418         0\n",
       "Age                    418         0\n",
       "SibSp                  418         0\n",
       "Parch                  418         0\n",
       "Ticket                 418         0\n",
       "Fare                   418         0\n",
       "Cabin                   91       327\n",
       "Embarked               418         0"
      ]
     },
     "execution_count": 25,
     "metadata": {},
     "output_type": "execute_result"
    }
   ],
   "source": [
    "v_test = {\n",
    "    \"Observaciones\" : test.count(),\n",
    "    \"Missings\": test.isnull().sum()\n",
    "}\n",
    "pd.DataFrame(v_test)"
   ]
  },
  {
   "cell_type": "markdown",
   "metadata": {},
   "source": [
    "Ahora crearemos nuestro conjunto para la variable dependiente y para la variable independiente, que se encuentra en otro archivo llamado \"gender_submission\""
   ]
  },
  {
   "cell_type": "markdown",
   "metadata": {},
   "source": [
    "Ahora aplicamos el one hot encodging"
   ]
  },
  {
   "cell_type": "code",
   "execution_count": 28,
   "metadata": {},
   "outputs": [],
   "source": [
    "test = pd.get_dummies(test, columns = ['Sex', 'Pclass', 'Embarked'], drop_first=True, dtype=float)"
   ]
  },
  {
   "cell_type": "code",
   "execution_count": 33,
   "metadata": {},
   "outputs": [],
   "source": [
    "X_test = test[[\"Age\", \"SibSp\", \"Parch\", \"Fare\", \"Sex_male\", \"Pclass_2\", \"Pclass_3\", \"Embarked_Q\", \"Embarked_S\"]]\n",
    "y_test = pd.read_csv('/home/luis-loreto/Documentos/Python/Titanic/Datos/gender_submission.csv')"
   ]
  },
  {
   "cell_type": "code",
   "execution_count": 30,
   "metadata": {},
   "outputs": [],
   "source": [
    "y_test = pd.read_csv('/home/luis-loreto/Documentos/Python/Titanic/Datos/gender_submission.csv')"
   ]
  },
  {
   "cell_type": "markdown",
   "metadata": {},
   "source": [
    "Ahora vamos a guardar los archivos ya preparados en nuestra carpeta \"Datos\""
   ]
  },
  {
   "cell_type": "code",
   "execution_count": 34,
   "metadata": {},
   "outputs": [],
   "source": [
    "X_train.to_csv('/home/luis-loreto/Documentos/Python/Titanic/Datos/X_train.csv', index=False)\n",
    "y_train.to_csv('/home/luis-loreto/Documentos/Python/Titanic/Datos/y_train.csv', index=False)\n",
    "X_test.to_csv('/home/luis-loreto/Documentos/Python/Titanic/Datos/X_test.csv', index=False)\n",
    "y_test.to_csv('/home/luis-loreto/Documentos/Python/Titanic/Datos/y_test.csv', index=False)"
   ]
  }
 ],
 "metadata": {
  "kernelspec": {
   "display_name": "Python 3",
   "language": "python",
   "name": "python3"
  },
  "language_info": {
   "codemirror_mode": {
    "name": "ipython",
    "version": 3
   },
   "file_extension": ".py",
   "mimetype": "text/x-python",
   "name": "python",
   "nbconvert_exporter": "python",
   "pygments_lexer": "ipython3",
   "version": "3.12.3"
  }
 },
 "nbformat": 4,
 "nbformat_minor": 2
}
